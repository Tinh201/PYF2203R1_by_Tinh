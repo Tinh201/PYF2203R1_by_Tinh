{
 "cells": [
  {
   "cell_type": "code",
   "execution_count": 22,
   "id": "bc15c41e",
   "metadata": {},
   "outputs": [
    {
     "name": "stdout",
     "output_type": "stream",
     "text": [
      "Poster: #hello! wellcome to my home, can't say sex. We are civilized and polite people here, racist. You shouldn't say sensitive words like child abuse.\n",
      "#hello! wellcome to my home, can't say sex\n",
      " We are civilized and polite people here, racist\n",
      " You shouldn't say sensitive words like child abuse\n",
      "blook poster True\n"
     ]
    }
   ],
   "source": [
    "#hello! wellcome to my home, can't say sex. We are civilized and polite people here, racist. You shouldn't say sensitive words like child abuse.\n",
    "post = input(\"Poster: \")\n",
    "tachcau = post.split(\".\")\n",
    "\n",
    "cau1 = tachcau[0]\n",
    "cau2 = tachcau[1]\n",
    "cau3 = tachcau[2]\n",
    "print(cau1)\n",
    "print(cau2)\n",
    "print(cau3)\n",
    "\n",
    "check_cau1 = 'sex' in cau1 or 'racist' in cau1 or 'violence' in cau1 or 'child abuse' in cau1\n",
    "check_cau2 = 'sex' in cau2 or 'racist' in cau2 or 'violence' in cau2 or 'child abuse' in cau2\n",
    "check_cau3 = 'sex' in cau3 or 'racist' in cau3 or 'violence' in cau3 or 'child abuse' in cau3\n",
    "\n",
    "print('blook poster', check_cau1 and check_cau2 and check_cau3)\n"
   ]
  }
 ],
 "metadata": {
  "kernelspec": {
   "display_name": "Python 3 (ipykernel)",
   "language": "python",
   "name": "python3"
  },
  "language_info": {
   "codemirror_mode": {
    "name": "ipython",
    "version": 3
   },
   "file_extension": ".py",
   "mimetype": "text/x-python",
   "name": "python",
   "nbconvert_exporter": "python",
   "pygments_lexer": "ipython3",
   "version": "3.9.7"
  }
 },
 "nbformat": 4,
 "nbformat_minor": 5
}
