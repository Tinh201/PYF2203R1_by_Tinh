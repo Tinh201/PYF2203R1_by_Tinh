{
 "cells": [
  {
   "cell_type": "code",
   "execution_count": 1,
   "id": "9a7a515e",
   "metadata": {},
   "outputs": [],
   "source": [
    "# Bước 1: import module turtl\n",
    "import turtle\n",
    "\n",
    "# Bước 2: Tạo đối tượng turtle\n",
    "tl = turtle.Turtle()\n",
    "tl.shape(\"turtle\")\n",
    "tl.pensize(1)\n",
    "tl.hideturtle()\n",
    "tl.pencolor(\"black\")\n",
    "tl.speed(5)\n",
    "tl.fillcolor(\"brown\")\n",
    "\n",
    "# khai bao bien\n",
    "height = 240\n",
    "wedth = 384\n",
    "\n",
    "# Bước 3: Điều khiển đối tượng turtle\n",
    "tl.penup()\n",
    "tl.backward(height)\n",
    "tl.pendown()\n",
    "tl.begin_fill()\n",
    "tl.forward(wedth)\n",
    "tl.left(90)\n",
    "tl.forward(height)\n",
    "tl.left(90)\n",
    "tl.forward(wedth)\n",
    "tl.left(90)\n",
    "tl.forward(height)\n",
    "tl.end_fill()\n",
    "tl.penup()\n",
    "tl.backward(wedth/4)\n",
    "tl.pendown()\n",
    "tl.fillcolor(\"white\")\n",
    "tl.begin_fill()\n",
    "tl.left(90)\n",
    "tl.forward(wedth)\n",
    "tl.left(90)\n",
    "tl.forward(height/4)\n",
    "tl.left(90)\n",
    "tl.forward(wedth)\n",
    "tl.left(90)\n",
    "tl.forward(height/4)\n",
    "tl.end_fill()\n",
    "\n",
    "# Buoc 4: hoan thanh\n",
    "turtle.done()"
   ]
  },
  {
   "cell_type": "code",
   "execution_count": null,
   "id": "4407a075",
   "metadata": {},
   "outputs": [],
   "source": []
  }
 ],
 "metadata": {
  "kernelspec": {
   "display_name": "Python 3 (ipykernel)",
   "language": "python",
   "name": "python3"
  },
  "language_info": {
   "codemirror_mode": {
    "name": "ipython",
    "version": 3
   },
   "file_extension": ".py",
   "mimetype": "text/x-python",
   "name": "python",
   "nbconvert_exporter": "python",
   "pygments_lexer": "ipython3",
   "version": "3.9.7"
  }
 },
 "nbformat": 4,
 "nbformat_minor": 5
}
