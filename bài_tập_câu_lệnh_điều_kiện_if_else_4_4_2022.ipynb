{
 "cells": [
  {
   "cell_type": "code",
   "execution_count": 1,
   "id": "31a9ad06",
   "metadata": {},
   "outputs": [
    {
     "name": "stdout",
     "output_type": "stream",
     "text": [
      "nhập điểm kiểm tra 15' là: 5\n",
      "nhập điểm kiểm tra giữa kì: 6\n",
      "nhập điểm kiểm tra cuối kì: 6\n",
      "5.777777777777778\n",
      "loại trung bình\n"
     ]
    }
   ],
   "source": [
    "#Bài 1: Điểm thành phần của một môn học gồm: điểm 15 phút hệ số 1, điểm kiểm tra giữa kì hệ số 1,5 và điểm kiểm tra cuối kì hệ số 2. \n",
    "        #Nhập vào các điểm thành phần môn Toán của một học sinh. \n",
    "        #Xếp loại điểm môn Toán biết nếu điểm tổng kết thang điểm 10 của môn Toán >= 8 thì loại giỏi, 8>đtb>=6,5 thì loại khá, 6,5>đtb>=5 thì loại Trung bình, nhỏ hơn 5 thì loại yếu, còn lại thì lỗi nhập dữ liệu.\n",
    "a = float(input(\"nhập điểm kiểm tra 15' là: \"))\n",
    "b = float(input(\"nhập điểm kiểm tra giữa kì: \"))\n",
    "c = float(input(\"nhập điểm kiểm tra cuối kì: \"))\n",
    "\n",
    "dtb = (a*1 + b*1.5 + c*2)/4.5\n",
    "print(dtb)\n",
    "\n",
    "\n",
    "if 10>=dtb>=8:\n",
    "    print(\"loại giỏi\")\n",
    "elif 8>dtb>=6.5:\n",
    "    print(\"loại khá\")\n",
    "elif 6.5>dtb>=5:\n",
    "    print(\"loại trung bình\")\n",
    "elif dtb<5:\n",
    "    print(\"loại yếu\")\n",
    "else:\n",
    "    print(\"Lỗi! nhập lại dữ liệu: \")"
   ]
  },
  {
   "cell_type": "code",
   "execution_count": 34,
   "id": "994d4522",
   "metadata": {},
   "outputs": [
    {
     "name": "stdout",
     "output_type": "stream",
     "text": [
      "phương trình bậc  2 có dạng : aX^2 + bx +c = 0\n",
      "mời bạn nhập\n",
      "a = 1\n",
      "b = 2\n",
      "c = 3\n",
      "Ta có phương trình:1X^2 + -2x + 3 = 0\n"
     ]
    }
   ],
   "source": [
    "#Bài 2: Nhập a, b, c là hệ số của một đa thức bậc 2. \n",
    "        #In ra phương trình bậc 2 dưới dạng chuẩn (dạng chuẩn có nghĩa là tự nhiên như khi viết tay đa thức ra giấy hoặc bảng). \n",
    "        #Các hệ số 1, -1 thì không in hệ số, 0 thì không in  bậc đó. Ví dụ: a = 1, b = -3, c= 0 thì in ra là x^2 – 3x.\n",
    "\n",
    "print(\"phương trình bậc  2 có dạng : aX^2 + bx +c = 0\")\n",
    "print(\"mời bạn nhập\")\n",
    "a = int(input(\"a = \"))\n",
    "b = int(input(\"b = \"))\n",
    "c = int(input(\"c = \"))\n",
    "\n",
    "if(a==0):\n",
    "    if b==0:\n",
    "        print(c)\n",
    "    if b==1:\n",
    "        if c==0:\n",
    "            print(\"Ta có phương trình: x = 0\")\n",
    "        elif c<0:\n",
    "            print(\"Ta có phương trình: x - {0} = 0\".format(-c))\n",
    "        else:\n",
    "            print(\"Ta có phương trình: x + {0} = 0\".format(c))\n",
    "    elif b==-1:\n",
    "        if c==0:\n",
    "            print(\"Ta có phương trình: -x = 0\")\n",
    "        elif c<0:\n",
    "            print(\"Ta có phương trình: -x - {0} = 0\".format(-c))\n",
    "        else:\n",
    "            print(\"Ta có phương trình: -x + {0} = 0\".format(c))\n",
    "    else:\n",
    "        print(\"Ta có phương trình: {0}x + {1} = 0\".format(b,c))\n",
    "elif a==1:\n",
    "    if b==0:\n",
    "        print(\"Ta có pt bậc 2 là: X^2 + {0} = 0 \".format(c))\n",
    "    if b==1:\n",
    "        if c==0:\n",
    "            print(\"Ta có phương trình:X^2 + x = 0\")\n",
    "        elif c<0:\n",
    "            print(\"Ta có phương trình:X^2 + x - {0} = 0\".format(-c))\n",
    "        else:\n",
    "            print(\"Ta có phương trình:X^2 + x + {0} = 0\".format(c))\n",
    "    elif b==-1:\n",
    "        if c==0:\n",
    "            print(\"Ta có phương trình:X^2 -x = 0\")\n",
    "        elif c<0:\n",
    "            print(\"Ta có phương trình:X^2 -x - {0} = 0\".format(-c))\n",
    "        else:\n",
    "            print(\"Ta có phương trình:X^2 -x + {0} = 0\".format(c))\n",
    "    else:\n",
    "        print(\"Ta có phương trình:{0}X^2 + {1}x + {2} = 0\".format(a,-b,c))\n",
    "elif a==-1:\n",
    "    if b==0:\n",
    "        print(\"Ta có pt bậc 2 là: -X^2 + {0} = 0 \".format(c))\n",
    "    if b==1:\n",
    "        if c==0:\n",
    "            print(\"Ta có phương trình:-X^2 + x = 0\")\n",
    "        elif c<0:\n",
    "            print(\"Ta có phương trình:-X^2 + x - {0} = 0\".format(-c))\n",
    "        else:\n",
    "            print(\"Ta có phương trình:-X^2 + x + {0} = 0\".format(c))\n",
    "    elif b==-1:\n",
    "        if c==0:\n",
    "            print(\"Ta có phương trình:-X^2 -x = 0\")\n",
    "        elif c<0:\n",
    "            print(\"Ta có phương trình:-X^2 -x - {0} = 0\".format(-c))\n",
    "        else:\n",
    "            print(\"Ta có phương trình:-X^2 -x + {0} = 0\".format(c))\n",
    "    else:\n",
    "        print(\"Ta có phương trình:-{0}X^2 + {1}x + {2} = 0\".format(-a,b,c))\n",
    "else:\n",
    "    print(\"Ta có phương trình:{0}X^2 + {1}x + {2} = 0\".format(a,-b,-c))\n",
    "    \n",
    "\n",
    "   "
   ]
  },
  {
   "cell_type": "code",
   "execution_count": null,
   "id": "ec41e410",
   "metadata": {},
   "outputs": [],
   "source": []
  },
  {
   "cell_type": "code",
   "execution_count": null,
   "id": "d957fe85",
   "metadata": {},
   "outputs": [],
   "source": []
  }
 ],
 "metadata": {
  "kernelspec": {
   "display_name": "Python 3 (ipykernel)",
   "language": "python",
   "name": "python3"
  },
  "language_info": {
   "codemirror_mode": {
    "name": "ipython",
    "version": 3
   },
   "file_extension": ".py",
   "mimetype": "text/x-python",
   "name": "python",
   "nbconvert_exporter": "python",
   "pygments_lexer": "ipython3",
   "version": "3.9.7"
  }
 },
 "nbformat": 4,
 "nbformat_minor": 5
}
