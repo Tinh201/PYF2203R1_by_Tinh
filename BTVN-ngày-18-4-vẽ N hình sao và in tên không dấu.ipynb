{
 "cells": [
  {
   "cell_type": "code",
   "execution_count": 1,
   "id": "b1affb50",
   "metadata": {},
   "outputs": [
    {
     "name": "stdout",
     "output_type": "stream",
     "text": [
      "Nhập số tự nhiên: 5\n"
     ]
    }
   ],
   "source": [
    "#Nhập vào số tự nhiên N, vẽ Nhình sao trên turtle.\n",
    "N = int(input(\"Nhập số tự nhiên: \"))\n",
    "a = 50\n",
    "import turtle\n",
    "\n",
    "tl = turtle.Turtle()\n",
    "tl.shape(\"turtle\")\n",
    "tl.hideturtle()\n",
    "tl.pensize(1)\n",
    "tl.fillcolor(\"yellow\")\n",
    "tl.begin_fill()\n",
    "for i in range(1,N+1):\n",
    "    tl.pu()\n",
    "    tl.goto(a*i,0)\n",
    "    tl.pd()\n",
    "    for i in range(5):\n",
    "        tl.forward(50)\n",
    "        tl.right(144)\n",
    "tl.end_fill()    \n",
    "    \n",
    "turtle.done()"
   ]
  },
  {
   "cell_type": "code",
   "execution_count": 2,
   "id": "c8e4c8fa",
   "metadata": {},
   "outputs": [
    {
     "name": "stdout",
     "output_type": "stream",
     "text": [
      "Nhập họ và tên : NguyễN TrầN\n",
      "Nguyen Tran "
     ]
    }
   ],
   "source": [
    "#Bài 2: Trong các phần mềm quản lý nhân sự, chức năng tìm kiếm thông tin nhân sự thông qua tên của nhân viên là một chức năng quan trọng của phần mềm. \n",
    "    #Chức năng có khả năng tìm kiếm khi người dùng nhập vào tên tiếng Việt có dấu hoặc kể cả không có dấu. \n",
    "    #Để làm điều đó, khi nhập vào dữ liệu là tiếng Việt có dấu được chuyển sang dữ liệu tiếng Việt không có dấu. \n",
    "    #Viết chương trình chuyển tiếng Việt có dấu sang tiếng Việt không có dấu. \n",
    "    #Ví dụ: Nhập vào là \"Nguyễn văn bình\" thì kết quả là \"Nguyen van binh\".\n",
    "name = input(\"Nhập họ và tên : \")\n",
    "\n",
    "full_name = ' '\n",
    "    \n",
    "list_a = ['Ă', 'ă', 'Ắ', 'ắ', 'Ẳ', 'ẳ', 'Â', 'â', 'Ấ', 'ấ', 'Ầ', 'ầ' ,'Ẩ', 'ẩ', 'Ẫ', 'ẫ', 'Ậ', 'ậ',]\n",
    "list_d = ['Đ', 'đ']\n",
    "list_e = ['Ê', 'ê', 'Ế', 'ế', 'Ề', 'ề', 'Ể', 'ể', 'Ễ', 'ễ', 'Ệ', 'ệ']\n",
    "list_i = ['Í', 'í', 'Ì', 'ì', 'Ỉ', 'ỉ', 'Ĩ', 'ĩ', 'Ị', 'ị']\n",
    "list_o = ['Ó', 'ó', 'Ò', 'ò', 'Ỏ', 'ỏ', 'Õ', 'õ', 'Ọ', 'ọ', 'Ô', 'ô', 'Ố', 'ố', 'Ồ', 'ồ', 'Ổ', 'ổ', 'Ỗ', 'ỗ', 'Ộ', 'ộ', 'Ơ', 'ơ', 'Ớ', 'ớ', 'Ờ', 'ờ', 'Ở', 'ở', 'Ỡ', 'ỡ', 'Ợ', 'ợ']\n",
    "list_u = ['Ú', 'ú', 'Ù', 'ù', 'Ủ', 'ủ', 'Ũ', 'ũ', 'Ụ', 'ụ', 'Ư', 'ư', 'Ứ', 'ứ', 'Ừ', 'ừ', 'Ử', 'ử', 'Ữ', 'ữ', 'Ự', 'ự']\n",
    "list_y = ['Ý', 'ý', 'Ỳ', 'ỳ', 'Ỷ', 'ỷ', 'Ỹ', 'ỹ', 'Ỵ', 'ỵ']\n",
    "\n",
    "for i in name:\n",
    "    if i in list_a:\n",
    "        i = 'a'\n",
    "    elif i in list_d:\n",
    "        i = 'd'\n",
    "    elif i in list_e:\n",
    "        i = 'e'   \n",
    "    elif i in list_i:\n",
    "        i = 'i'\n",
    "    elif i in list_o:\n",
    "        i = 'o'\n",
    "    elif i in list_u:\n",
    "        i = 'u'\n",
    "    elif i in list_y:\n",
    "        i = 'y'  \n",
    "    else: i = i        \n",
    "    full_name += i   \n",
    "    \n",
    "    \n",
    "full_name = full_name.strip().lower().split(' ')    \n",
    "for i in full_name:\n",
    "    if i != '':\n",
    "        i = i[0].upper() + i[1:None]\n",
    "        print(i, end=' ')"
   ]
  },
  {
   "cell_type": "code",
   "execution_count": null,
   "id": "4cb548b9",
   "metadata": {},
   "outputs": [],
   "source": []
  }
 ],
 "metadata": {
  "kernelspec": {
   "display_name": "Python 3 (ipykernel)",
   "language": "python",
   "name": "python3"
  },
  "language_info": {
   "codemirror_mode": {
    "name": "ipython",
    "version": 3
   },
   "file_extension": ".py",
   "mimetype": "text/x-python",
   "name": "python",
   "nbconvert_exporter": "python",
   "pygments_lexer": "ipython3",
   "version": "3.9.7"
  }
 },
 "nbformat": 4,
 "nbformat_minor": 5
}
