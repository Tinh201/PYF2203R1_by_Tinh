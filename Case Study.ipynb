{
 "cells": [
  {
   "cell_type": "code",
   "execution_count": 1,
   "id": "e713d393",
   "metadata": {
    "scrolled": true
   },
   "outputs": [
    {
     "name": "stdout",
     "output_type": "stream",
     "text": [
      "{'af': 'afrikaans', 'sq': 'albanian', 'am': 'amharic', 'ar': 'arabic', 'hy': 'armenian', 'az': 'azerbaijani', 'eu': 'basque', 'be': 'belarusian', 'bn': 'bengali', 'bs': 'bosnian', 'bg': 'bulgarian', 'ca': 'catalan', 'ceb': 'cebuano', 'ny': 'chichewa', 'zh-cn': 'chinese (simplified)', 'zh-tw': 'chinese (traditional)', 'co': 'corsican', 'hr': 'croatian', 'cs': 'czech', 'da': 'danish', 'nl': 'dutch', 'en': 'english', 'eo': 'esperanto', 'et': 'estonian', 'tl': 'filipino', 'fi': 'finnish', 'fr': 'french', 'fy': 'frisian', 'gl': 'galician', 'ka': 'georgian', 'de': 'german', 'el': 'greek', 'gu': 'gujarati', 'ht': 'haitian creole', 'ha': 'hausa', 'haw': 'hawaiian', 'iw': 'hebrew', 'he': 'hebrew', 'hi': 'hindi', 'hmn': 'hmong', 'hu': 'hungarian', 'is': 'icelandic', 'ig': 'igbo', 'id': 'indonesian', 'ga': 'irish', 'it': 'italian', 'ja': 'japanese', 'jw': 'javanese', 'kn': 'kannada', 'kk': 'kazakh', 'km': 'khmer', 'ko': 'korean', 'ku': 'kurdish (kurmanji)', 'ky': 'kyrgyz', 'lo': 'lao', 'la': 'latin', 'lv': 'latvian', 'lt': 'lithuanian', 'lb': 'luxembourgish', 'mk': 'macedonian', 'mg': 'malagasy', 'ms': 'malay', 'ml': 'malayalam', 'mt': 'maltese', 'mi': 'maori', 'mr': 'marathi', 'mn': 'mongolian', 'my': 'myanmar (burmese)', 'ne': 'nepali', 'no': 'norwegian', 'or': 'odia', 'ps': 'pashto', 'fa': 'persian', 'pl': 'polish', 'pt': 'portuguese', 'pa': 'punjabi', 'ro': 'romanian', 'ru': 'russian', 'sm': 'samoan', 'gd': 'scots gaelic', 'sr': 'serbian', 'st': 'sesotho', 'sn': 'shona', 'sd': 'sindhi', 'si': 'sinhala', 'sk': 'slovak', 'sl': 'slovenian', 'so': 'somali', 'es': 'spanish', 'su': 'sundanese', 'sw': 'swahili', 'sv': 'swedish', 'tg': 'tajik', 'ta': 'tamil', 'te': 'telugu', 'th': 'thai', 'tr': 'turkish', 'uk': 'ukrainian', 'ur': 'urdu', 'ug': 'uyghur', 'uz': 'uzbek', 'vi': 'vietnamese', 'cy': 'welsh', 'xh': 'xhosa', 'yi': 'yiddish', 'yo': 'yoruba', 'zu': 'zulu'}\n"
     ]
    }
   ],
   "source": [
    "import googletrans\n",
    "print(googletrans.LANGUAGES)"
   ]
  },
  {
   "cell_type": "code",
   "execution_count": 1,
   "id": "6dbc8fe3",
   "metadata": {},
   "outputs": [
    {
     "name": "stdout",
     "output_type": "stream",
     "text": [
      "chao ban\n",
      "\n",
      "\n",
      "tôi đến từ Việt Nam\n",
      "\n",
      "\n",
      "tôi học lập trình python\n",
      "\n",
      "tôi là tôi \n",
      "\n"
     ]
    }
   ],
   "source": [
    "from tkinter import *\n",
    "from PIL import Image,ImageTk\n",
    "from googletrans import Translator\n",
    "\n",
    "# Tạo Tk window\n",
    "root=Tk()\n",
    "root.title('Google Galaxy')\n",
    "root.geometry(\"500x630\")\n",
    "root.iconbitmap('logo.ico')\n",
    "\n",
    "load=Image.open(\"background.png\")\n",
    "render=ImageTk.PhotoImage(load)\n",
    "img=Label(root,image=render)\n",
    "img.place(x=0,y=0)\n",
    "\n",
    "\n",
    "name=Label(root,text=\"Translator\",fg=\"#FFFFFF\",bd=0,bg=\"#03152D\")\n",
    "name.config(font=(\"Transformers Movie\",30))\n",
    "name.pack(pady=10)\n",
    "\n",
    "box=Text(root,width=28,height=8,font=(\"ROBOTO\",16))\n",
    "box.pack(pady=20)\n",
    "\n",
    "button_frame=Frame(root).pack(side=BOTTOM)\n",
    "\n",
    "def clear():\n",
    "    box.delete(1.0,END)\n",
    "    box1.delete(1.0,END)\n",
    "def translate():\n",
    "    INPUT = box.get(1.0,END)\n",
    "    print(INPUT)\n",
    "    t=Translator()\n",
    "    a=t.translate(INPUT,src=\"vi\",dest=\"en\")\n",
    "    b=a.text\n",
    "    box1.insert(END,b)\n",
    "clear_button=Button(button_frame,text=\"Clear text\",font=((\"Arial\"),10,'bold'),bg='#303030',fg=\"#FFFFFF\",command=clear)\n",
    "clear_button.place(x=150,y=310)\n",
    "trans_button=Button(button_frame,text=\"Translate\",font=((\"Arial\"),10,'bold'),bg='#303030',fg=\"#FFFFFF\",command=translate)\n",
    "trans_button.place(x=290,y=310)\n",
    "box1=Text(root,width=28,height=8,font=(\"ROBOTO\",16))\n",
    "box1.pack(pady=50)\n",
    "\n",
    "\n",
    "root.mainloop()"
   ]
  },
  {
   "cell_type": "code",
   "execution_count": null,
   "id": "ea9d9ed6",
   "metadata": {},
   "outputs": [],
   "source": []
  }
 ],
 "metadata": {
  "kernelspec": {
   "display_name": "Python 3 (ipykernel)",
   "language": "python",
   "name": "python3"
  },
  "language_info": {
   "codemirror_mode": {
    "name": "ipython",
    "version": 3
   },
   "file_extension": ".py",
   "mimetype": "text/x-python",
   "name": "python",
   "nbconvert_exporter": "python",
   "pygments_lexer": "ipython3",
   "version": "3.9.7"
  }
 },
 "nbformat": 4,
 "nbformat_minor": 5
}
