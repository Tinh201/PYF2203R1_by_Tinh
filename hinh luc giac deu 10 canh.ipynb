{
 "cells": [
  {
   "cell_type": "code",
   "execution_count": 1,
   "id": "fb417869",
   "metadata": {},
   "outputs": [],
   "source": [
    "import turtle\n",
    "\n",
    "tl = turtle.Turtle()\n",
    "tl.hideturtle()\n",
    "tl.pencolor(\"red\")\n",
    "tl.fillcolor(\"sky blue\")\n",
    "\n",
    "tl.penup()\n",
    "tl.forward(50)\n",
    "tl.right(90)\n",
    "tl.pendown()\n",
    "tl.begin_fill()\n",
    "tl.forward(100)\n",
    "tl.right(36)\n",
    "tl.forward(100)\n",
    "tl.right(36)\n",
    "tl.forward(100)\n",
    "tl.right(36)\n",
    "tl.forward(100)\n",
    "tl.right(36)\n",
    "tl.forward(100)\n",
    "tl.right(36)\n",
    "tl.forward(100)\n",
    "tl.right(36)\n",
    "tl.forward(100)\n",
    "tl.right(36)\n",
    "tl.forward(100)\n",
    "tl.right(36)\n",
    "tl.forward(100)\n",
    "tl.right(36)\n",
    "tl.forward(100)\n",
    "tl.end_fill()\n",
    "\n",
    "turtle.done()\n",
    "\n"
   ]
  },
  {
   "cell_type": "code",
   "execution_count": null,
   "id": "22cba368",
   "metadata": {},
   "outputs": [],
   "source": []
  },
  {
   "cell_type": "code",
   "execution_count": null,
   "id": "0327389b",
   "metadata": {},
   "outputs": [],
   "source": []
  },
  {
   "cell_type": "code",
   "execution_count": null,
   "id": "9458139f",
   "metadata": {},
   "outputs": [],
   "source": []
  }
 ],
 "metadata": {
  "kernelspec": {
   "display_name": "Python 3 (ipykernel)",
   "language": "python",
   "name": "python3"
  },
  "language_info": {
   "codemirror_mode": {
    "name": "ipython",
    "version": 3
   },
   "file_extension": ".py",
   "mimetype": "text/x-python",
   "name": "python",
   "nbconvert_exporter": "python",
   "pygments_lexer": "ipython3",
   "version": "3.9.7"
  }
 },
 "nbformat": 4,
 "nbformat_minor": 5
}
