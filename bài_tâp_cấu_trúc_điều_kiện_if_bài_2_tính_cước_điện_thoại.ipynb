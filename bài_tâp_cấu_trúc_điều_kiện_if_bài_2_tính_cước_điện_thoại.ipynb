{
 "cells": [
  {
   "cell_type": "code",
   "execution_count": 36,
   "id": "fcb7c98f",
   "metadata": {},
   "outputs": [
    {
     "name": "stdout",
     "output_type": "stream",
     "text": [
      "Nhập time buôn điện thoại của bạn: 345\n",
      "Nhà bạn đã mất 84000 cho 345 số phút buôn điện thoại\n"
     ]
    }
   ],
   "source": [
    "#Bài 2: Viết chương trình để tính cước điện thoại bàn cho một hộ gia đình. Biết rằng phí thuê bao bắt buộc là 25 nghìn, 600 đồng cho mỗi gọi của 50 phút đầu tiên, 400 đồng cho mỗi phút gọi của 150 phút tiếp theo, 200 đồng cho bất kỳ mỗi phút nào sau 200 phút đầu tiên. Nhập vào số phút gọi, tính số tiền mà hộ gia đình đó phải trả!\n",
    "\n",
    "n = int(input(\"Nhập time buôn điện thoại của bạn: \"))\n",
    "c = 25000\n",
    "\n",
    "if n <= 50:\n",
    "    t = c + n*600\n",
    "    \n",
    "# từ phút 51 đến 149 nhân với cước bn?   \n",
    "    \n",
    "elif n >= 150:\n",
    "    t = c + 50*600 + ? + (n-149)*400\n",
    "elif n > 200:\n",
    "    t = c + 50*600 ?\n",
    "print(\"Nhà bạn đã mất {0} cho {1} số phút buôn điện thoại\".format(t,n))\n",
    "\n",
    "\n"
   ]
  },
  {
   "cell_type": "code",
   "execution_count": null,
   "id": "29313726",
   "metadata": {},
   "outputs": [],
   "source": []
  },
  {
   "cell_type": "code",
   "execution_count": null,
   "id": "a9a06a50",
   "metadata": {},
   "outputs": [],
   "source": []
  }
 ],
 "metadata": {
  "kernelspec": {
   "display_name": "Python 3 (ipykernel)",
   "language": "python",
   "name": "python3"
  },
  "language_info": {
   "codemirror_mode": {
    "name": "ipython",
    "version": 3
   },
   "file_extension": ".py",
   "mimetype": "text/x-python",
   "name": "python",
   "nbconvert_exporter": "python",
   "pygments_lexer": "ipython3",
   "version": "3.9.7"
  }
 },
 "nbformat": 4,
 "nbformat_minor": 5
}
