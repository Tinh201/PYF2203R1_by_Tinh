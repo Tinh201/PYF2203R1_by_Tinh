{
 "cells": [
  {
   "cell_type": "code",
   "execution_count": 20,
   "id": "601c9345",
   "metadata": {},
   "outputs": [
    {
     "name": "stdout",
     "output_type": "stream",
     "text": [
      "la tam giac False\n",
      "tam giac vuong False\n",
      "tam giac can True\n",
      "tam giac deu False\n",
      "tam giac thuong True\n"
     ]
    }
   ],
   "source": [
    "# khai báo biến\n",
    "xA = 2\n",
    "yA = 1\n",
    "xB = 5\n",
    "yB = -1\n",
    "xC = 2\n",
    "yC = -3\n",
    "\n",
    "# tính toán \n",
    "xAB = (xA + xB)\n",
    "yAB = (yA + yB)\n",
    "xBC = (xB + xC)\n",
    "yBC = (yB + yC)\n",
    "\n",
    "# so sánh và kết luận hình tam giác\n",
    "sk = (xAB / xBC) == (yAB / yBC) \n",
    "\n",
    "print('la tam giac',sk)\n",
    "\n",
    "# tính bình phương độ dài các cạnh\n",
    "dAB = ((xB-xA)**2 + (yB-yA)**2)\n",
    "dAC = ((xC-xA)**2 + (yC-yA)**2)\n",
    "dBC = ((xC-xB)**2 + (yC-yB)**2)\n",
    "\n",
    "# kết luận\n",
    "tamgiacvuong = dAB == dAC + dBC or dAC == dBC + dAB or dBC == dAC + dAB\n",
    "\n",
    "tamgiaccan = dAB == dAC != dBC or dAC == dBC != dAB or dAB == dBC != dAC \n",
    "\n",
    "tamgiacdeu = dAB == dAC == dBC \n",
    "\n",
    "tamgiacthuong = dAB > dAC + dBC or dAC < dBC + dAB or dBC < dAC + dAB\n",
    "\n",
    "print('tam giac vuong', tamgiacvuong)\n",
    "print('tam giac can', tamgiaccan)\n",
    "print('tam giac deu', tamgiacdeu)\n",
    "print('tam giac thuong', tamgiacthuong)"
   ]
  },
  {
   "cell_type": "code",
   "execution_count": null,
   "id": "96928ec4",
   "metadata": {},
   "outputs": [],
   "source": []
  }
 ],
 "metadata": {
  "kernelspec": {
   "display_name": "Python 3 (ipykernel)",
   "language": "python",
   "name": "python3"
  },
  "language_info": {
   "codemirror_mode": {
    "name": "ipython",
    "version": 3
   },
   "file_extension": ".py",
   "mimetype": "text/x-python",
   "name": "python",
   "nbconvert_exporter": "python",
   "pygments_lexer": "ipython3",
   "version": "3.9.7"
  }
 },
 "nbformat": 4,
 "nbformat_minor": 5
}
