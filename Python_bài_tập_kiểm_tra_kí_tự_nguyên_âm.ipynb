{
 "cells": [
  {
   "cell_type": "code",
   "execution_count": 6,
   "id": "62cdc75f",
   "metadata": {},
   "outputs": [
    {
     "name": "stdout",
     "output_type": "stream",
     "text": [
      "nhap ki tu: dfghfg\n",
      "False\n"
     ]
    }
   ],
   "source": [
    "text = input(\"nhap ki tu: \")\n",
    "nguyen_am = 'a' in text or 'A' in text or 'u' in text or 'U' in text or 'e' in text or 'E' in text or 'i' in text or 'I' in text or 'o' in text or 'O' in text\n",
    "print(nguyen_am)"
   ]
  },
  {
   "cell_type": "code",
   "execution_count": null,
   "id": "02ef6607",
   "metadata": {},
   "outputs": [],
   "source": []
  }
 ],
 "metadata": {
  "kernelspec": {
   "display_name": "Python 3 (ipykernel)",
   "language": "python",
   "name": "python3"
  },
  "language_info": {
   "codemirror_mode": {
    "name": "ipython",
    "version": 3
   },
   "file_extension": ".py",
   "mimetype": "text/x-python",
   "name": "python",
   "nbconvert_exporter": "python",
   "pygments_lexer": "ipython3",
   "version": "3.9.7"
  }
 },
 "nbformat": 4,
 "nbformat_minor": 5
}
