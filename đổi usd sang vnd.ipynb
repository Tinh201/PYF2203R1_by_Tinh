{
 "cells": [
  {
   "cell_type": "code",
   "execution_count": 1,
   "id": "28d77c7a",
   "metadata": {},
   "outputs": [
    {
     "name": "stdout",
     "output_type": "stream",
     "text": [
      "nhập vào: 50\n",
      "50 usd = 1150k đồng\n"
     ]
    }
   ],
   "source": [
    "# Đổi USD sang VND\n",
    "usd = int(input( \"nhập vào: \"))\n",
    "\n",
    "\n",
    "vnd = usd * 23\n",
    "\n",
    "\n",
    "print(str(usd) + \" usd = \" + str(vnd) + \"k đồng\")"
   ]
  },
  {
   "cell_type": "code",
   "execution_count": null,
   "id": "a0aef1d8",
   "metadata": {},
   "outputs": [],
   "source": []
  },
  {
   "cell_type": "code",
   "execution_count": null,
   "id": "a8384189",
   "metadata": {},
   "outputs": [],
   "source": []
  },
  {
   "cell_type": "code",
   "execution_count": null,
   "id": "088a2f3c",
   "metadata": {},
   "outputs": [],
   "source": []
  }
 ],
 "metadata": {
  "kernelspec": {
   "display_name": "Python 3 (ipykernel)",
   "language": "python",
   "name": "python3"
  },
  "language_info": {
   "codemirror_mode": {
    "name": "ipython",
    "version": 3
   },
   "file_extension": ".py",
   "mimetype": "text/x-python",
   "name": "python",
   "nbconvert_exporter": "python",
   "pygments_lexer": "ipython3",
   "version": "3.9.7"
  }
 },
 "nbformat": 4,
 "nbformat_minor": 5
}
