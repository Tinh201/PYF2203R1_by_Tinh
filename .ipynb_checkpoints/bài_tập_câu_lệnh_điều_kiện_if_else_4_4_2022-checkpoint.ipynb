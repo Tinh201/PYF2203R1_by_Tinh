{
 "cells": [
  {
   "cell_type": "code",
   "execution_count": null,
   "id": "31a9ad06",
   "metadata": {},
   "outputs": [],
   "source": [
    "#Bài 1: Điểm thành phần của một môn học gồm: điểm 15 phút hệ số 1, điểm kiểm tra giữa kì hệ số 1,5 và điểm kiểm tra cuối kì hệ số 2. \n",
    "#Nhập vào các điểm thành phần môn Toán của một học sinh. Xếp loại điểm môn Toán biết nếu điểm tổng kết thang điểm 10 của môn Toán >= 8 thì loại giỏi, 8>đtb>=6,5 thì loại khá, 6,5>đtb>=5 thì loại Trung bình, nhỏ hơn 5 thì loại yếu, còn lại thì lỗi nhập dữ liệu.\n",
    "a = float(input(\"nhập điểm kiểm tra 15' là: \"))\n",
    "b = float(input(\"nhập điểm kiểm tra giữa kì: \"))\n",
    "c = float(input(\"nhập điểm kiểm tra cuối kì: \"))\n",
    "\n",
    "dtb = (a*1 + b*1.5 + c*2)/4.5\n",
    "print(dtb)\n",
    "\n",
    "\n",
    "if 10>=dtb>=8:\n",
    "    print(\"loại giỏi\")\n",
    "elif 8>dtb>=6.5:\n",
    "    print(\"loại khá\")\n",
    "elif 6.5>dtb>=5:\n",
    "    print(\"loại trung bình\")\n",
    "elif dtb<5:\n",
    "    print(\"loại yếu\")\n",
    "else:\n",
    "    print(\"Lỗi! nhập lại dữ liệu: \")"
   ]
  },
  {
   "cell_type": "code",
   "execution_count": null,
   "id": "994d4522",
   "metadata": {},
   "outputs": [],
   "source": [
    "#Bài 2: Nhập a, b, c là hệ số của một đa thức bậc 2. In ra phương trình bậc 2 dưới dạng chuẩn (dạng chuẩn có nghĩa là tự nhiên như khi viết tay đa thức ra giấy hoặc bảng). Các hệ số 1, -1 thì không in hệ số, 0 thì không in  bậc đó. Ví dụ: a = 1, b = -3, c= 0 thì in ra là x^2 – 3x.\n",
    "\n",
    "print(\"phương trình bậc  2 có dạng : aX^2 + bx +c = 0\\n\")\n",
    "print(\"mời bạn nhập \\n\")\n",
    "a = int(input(\"a = \"))\n",
    "b = int(input(\"b = \"))\n",
    "c = int(input(\"c = \"))\n",
    "\n",
    "if(a==0) and b==1 or b==-1:\n",
    "    print(\"phương trình bậc  2 có dạng : x +{0} = 0\".format(c))"
   ]
  },
  {
   "cell_type": "code",
   "execution_count": null,
   "id": "ec41e410",
   "metadata": {},
   "outputs": [],
   "source": []
  }
 ],
 "metadata": {
  "kernelspec": {
   "display_name": "Python 3 (ipykernel)",
   "language": "python",
   "name": "python3"
  },
  "language_info": {
   "codemirror_mode": {
    "name": "ipython",
    "version": 3
   },
   "file_extension": ".py",
   "mimetype": "text/x-python",
   "name": "python",
   "nbconvert_exporter": "python",
   "pygments_lexer": "ipython3",
   "version": "3.9.7"
  }
 },
 "nbformat": 4,
 "nbformat_minor": 5
}
