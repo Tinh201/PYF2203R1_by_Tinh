{
 "cells": [
  {
   "cell_type": "code",
   "execution_count": 2,
   "id": "7f6275d1",
   "metadata": {},
   "outputs": [
    {
     "name": "stdout",
     "output_type": "stream",
     "text": [
      "Enter a number: 9\n",
      "ngoài phạm vi 0-6, Please! enter a number: \n"
     ]
    }
   ],
   "source": [
    "#Bài 3: Nhập 1 số tự nhiên từ 0-6, nếu 0 in ra thứ 2, 1 in ra thứ 3, cứ như thế, 6 thì in chủ nhật. Ngoài phạm vi 0-6 in ra là lỗi nhập dữ liệu đầu vào\n",
    "\n",
    "number = int(input(\"Enter a number: \"))\n",
    "if number == 0:\n",
    "    print(\"thứ 2\")\n",
    "elif number == 1:\n",
    "    print(\"thứ 3\")\n",
    "elif number == 2:\n",
    "    print(\"thứ 4\")\n",
    "elif number == 3:\n",
    "    print(\"thứ 5\")\n",
    "elif number == 4:\n",
    "    print(\"thứ 6\")\n",
    "elif number == 5:\n",
    "    print(\"thứ 7\")\n",
    "elif number == 6:\n",
    "    print(\"chủ nhật\")\n",
    "else:\n",
    "     print(\"ngoài phạm vi 0-6, Please! enter a number: \") \n",
    "\n",
    "\n"
   ]
  },
  {
   "cell_type": "code",
   "execution_count": null,
   "id": "f30b5044",
   "metadata": {},
   "outputs": [],
   "source": []
  },
  {
   "cell_type": "code",
   "execution_count": null,
   "id": "8848525b",
   "metadata": {},
   "outputs": [],
   "source": []
  }
 ],
 "metadata": {
  "kernelspec": {
   "display_name": "Python 3 (ipykernel)",
   "language": "python",
   "name": "python3"
  },
  "language_info": {
   "codemirror_mode": {
    "name": "ipython",
    "version": 3
   },
   "file_extension": ".py",
   "mimetype": "text/x-python",
   "name": "python",
   "nbconvert_exporter": "python",
   "pygments_lexer": "ipython3",
   "version": "3.9.7"
  }
 },
 "nbformat": 4,
 "nbformat_minor": 5
}
