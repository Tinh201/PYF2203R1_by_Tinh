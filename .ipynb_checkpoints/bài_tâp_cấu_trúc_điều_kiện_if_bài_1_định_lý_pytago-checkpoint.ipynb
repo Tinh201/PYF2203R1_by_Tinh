{
 "cells": [
  {
   "cell_type": "code",
   "execution_count": 3,
   "id": "f7bea736",
   "metadata": {},
   "outputs": [
    {
     "name": "stdout",
     "output_type": "stream",
     "text": [
      "số thứ nhất:4\n",
      "số thứ hai:4\n",
      "số thứ ba:4\n",
      "là tam giác khác\n"
     ]
    }
   ],
   "source": [
    "#nhập vào 3 số tự nhiên:\n",
    "a = int(input(\"số thứ nhất:\"))\n",
    "b = int(input(\"số thứ hai:\"))\n",
    "c = int(input(\"số thứ ba:\"))\n",
    "\n",
    "if a**2 + b**2 == c**2 or a**2 + c**2 == b**2 or c**2 + b**2 == a**2:\n",
    "    print(\"là tam giác vuông theo định lý pytago\")\n",
    "else:\n",
    "    print(\"là tam giác khác\")"
   ]
  },
  {
   "cell_type": "code",
   "execution_count": null,
   "id": "da786d18",
   "metadata": {},
   "outputs": [],
   "source": []
  }
 ],
 "metadata": {
  "kernelspec": {
   "display_name": "Python 3 (ipykernel)",
   "language": "python",
   "name": "python3"
  },
  "language_info": {
   "codemirror_mode": {
    "name": "ipython",
    "version": 3
   },
   "file_extension": ".py",
   "mimetype": "text/x-python",
   "name": "python",
   "nbconvert_exporter": "python",
   "pygments_lexer": "ipython3",
   "version": "3.9.7"
  }
 },
 "nbformat": 4,
 "nbformat_minor": 5
}
