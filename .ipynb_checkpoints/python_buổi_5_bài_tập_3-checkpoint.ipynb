{
 "cells": [
  {
   "cell_type": "code",
   "execution_count": 5,
   "id": "d75837b6",
   "metadata": {},
   "outputs": [
    {
     "name": "stdout",
     "output_type": "stream",
     "text": [
      "20029.333333333332\n"
     ]
    }
   ],
   "source": [
    "# khai báo biến\n",
    "x = 111\n",
    "y = 87\n",
    "z = 56\n",
    "a = 3\n",
    "\n",
    "# tính toán thể tính hình chữ nhật\n",
    "V1 = x*y*z\n",
    "# tính thể tích lập phương\n",
    "V2 = a**3\n",
    "\n",
    "# số lượng hình lập phương trong hộp chữ nhật\n",
    "SL = V1/V2\n",
    "\n",
    "print(SL)"
   ]
  },
  {
   "cell_type": "code",
   "execution_count": null,
   "id": "789130fd",
   "metadata": {},
   "outputs": [],
   "source": []
  }
 ],
 "metadata": {
  "kernelspec": {
   "display_name": "Python 3 (ipykernel)",
   "language": "python",
   "name": "python3"
  },
  "language_info": {
   "codemirror_mode": {
    "name": "ipython",
    "version": 3
   },
   "file_extension": ".py",
   "mimetype": "text/x-python",
   "name": "python",
   "nbconvert_exporter": "python",
   "pygments_lexer": "ipython3",
   "version": "3.9.7"
  }
 },
 "nbformat": 4,
 "nbformat_minor": 5
}
